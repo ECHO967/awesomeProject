{
  "cells": [
    {
      "cell_type": "markdown",
      "metadata": {
        "id": "dpEcQUPhALV3"
      },
      "source": [
        "# How to Get Your Specialized Neural Networks on ImageNet in Minutes With OFA Networks\n",
        "\n",
        "In this notebook, we will demonstrate\n",
        "- how to use pretrained specialized OFA sub-networks for efficient inference on diverse hardware platforms\n",
        "- how to get new specialized neural networks on ImageNet with the OFA network within minutes.\n",
        "\n",
        "**[Once-for-All (OFA)](https://github.com/mit-han-lab/once-for-all)** is an efficient AutoML technique\n",
        "that decouples training from search.\n",
        "Different sub-nets can directly grab weights from the OFA network without training.\n",
        "Therefore, getting a new specialized neural network with the OFA network is highly efficient, incurring little computation cost.\n",
        "\n",
        "![](https://github.com/mit-han-lab/once-for-all/blob/master/figures/ofa_search_cost.png?raw=1)"
      ]
    },
    {
      "cell_type": "code",
      "source": [
        "# ofa_mnist_example.py\n",
        "\n",
        "import torch\n",
        "import torch.nn as nn\n",
        "import torch.optim as optim\n",
        "from torchvision import datasets, transforms\n",
        "from ofa.model_zoo import ofa_net\n",
        "from ofa.tutorial import AccuracyPredictor, FLOPsTable, LatencyTable, EvolutionFinder\n",
        "from ofa.tutorial import evaluate_ofa_subnet, evaluate_ofa_specialized\n",
        "# 硬件设备\n",
        "cuda_available = torch.cuda.is_available()\n",
        "if cuda_available:\n",
        "    torch.backends.cudnn.enabled = True\n",
        "    torch.backends.cudnn.benchmark = True\n",
        "    torch.cuda.manual_seed(random_seed)\n",
        "    print('Using GPU.')\n",
        "else:\n",
        "    print('Using CPU.')\n",
        "# 1. 准备 MNIST 数据加载器\n",
        "transform = transforms.Compose([\n",
        "    transforms.Resize(32),  # OFA 预训练模型通常输入至少 32x32\n",
        "    transforms.Lambda(lambda img: img.convert(\"RGB\")),\n",
        "    transforms.ToTensor(),\n",
        "    transforms.Normalize((0.1307,), (0.3081,))\n",
        "])\n",
        "train_ds = datasets.MNIST('./data', train=True, download=True, transform=transform)\n",
        "test_ds  = datasets.MNIST('./data', train=False, download=True, transform=transform)\n",
        "train_loader = torch.utils.data.DataLoader(train_ds, batch_size=128, shuffle=True, num_workers=2)\n",
        "test_loader  = torch.utils.data.DataLoader(test_ds, batch_size=256, shuffle=False, num_workers=2)\n",
        "\n",
        "# 2. 加载 OFA 超网\n",
        "ofa_network = ofa_net('ofa_mbv3_d234_e346_k357_w1.0', pretrained=True)\n",
        "print('The OFA Network is ready.')\n",
        "device = torch.device('cuda' if torch.cuda.is_available() else 'cpu')\n",
        "ofa_network.to(device).eval()\n",
        "\n",
        "# 随机采样一个子网\n",
        "ofa_network.sample_active_subnet()\n",
        "subnet = ofa_network.get_active_subnet(preserve_weight=True).to(device)\n",
        "\n",
        "# 3. 轻微训练（微调）或直接评估\n",
        "criterion = nn.CrossEntropyLoss()\n",
        "optimizer = optim.Adam(subnet.parameters(), lr=1e-3)\n",
        "\n",
        "# 一轮微调\n",
        "subnet.train()\n",
        "for xb, yb in train_loader:\n",
        "    xb, yb = xb.to(device), yb.to(device)\n",
        "    optimizer.zero_grad()\n",
        "    logits = subnet(xb)\n",
        "    loss = criterion(logits, yb)\n",
        "    loss.backward()\n",
        "    optimizer.step()\n",
        "\n",
        "# 4. 评估子网性能\n",
        "subnet.eval()\n",
        "correct, total = 0, 0\n",
        "with torch.no_grad():\n",
        "    for xb, yb in test_loader:\n",
        "        xb, yb = xb.to(device), yb.to(device)\n",
        "        pred = subnet(xb).argmax(dim=1)\n",
        "        correct += (pred == yb).sum().item()\n",
        "        total += yb.size(0)\n",
        "print(\"Test Accuracy of sampled subnet:\", correct / total)\n"
      ],
      "metadata": {
        "id": "1EdMtOiMvWSV",
        "outputId": "384b37ed-4705-4e88-877b-a97a4859a354",
        "colab": {
          "base_uri": "https://localhost:8080/"
        }
      },
      "execution_count": 4,
      "outputs": [
        {
          "output_type": "stream",
          "name": "stdout",
          "text": [
            "Using CPU.\n",
            "The OFA Network is ready.\n",
            "Test Accuracy of sampled subnet: 0.9778\n"
          ]
        }
      ]
    },
    {
      "cell_type": "markdown",
      "metadata": {
        "id": "5Rc9GKIdALV4"
      },
      "source": [
        "## 1. Preparation\n",
        "Let's first install all the required packages:"
      ]
    },
    {
      "cell_type": "code",
      "source": [
        "!python3 -m venv myenv\n",
        "!source myenv/bin/activate\n",
        "!pip install pyyaml==5.4.1\n"
      ],
      "metadata": {
        "colab": {
          "base_uri": "https://localhost:8080/"
        },
        "id": "XZ0IRCVBAO_B",
        "outputId": "5d010111-745c-4f5f-edc1-edee93d7eae6"
      },
      "execution_count": 35,
      "outputs": [
        {
          "output_type": "stream",
          "name": "stdout",
          "text": [
            "Error: Command '['/content/myenv/bin/python3', '-m', 'ensurepip', '--upgrade', '--default-pip']' returned non-zero exit status 1.\n",
            "/bin/bash: line 1: myenv/bin/activate: No such file or directory\n",
            "Requirement already satisfied: pyyaml==5.4.1 in /usr/local/lib/python3.12/dist-packages (5.4.1)\n"
          ]
        }
      ]
    },
    {
      "cell_type": "code",
      "execution_count": 2,
      "metadata": {
        "colab": {
          "base_uri": "https://localhost:8080/"
        },
        "id": "UNebI-BfALV5",
        "outputId": "a8c03792-5590-46a8-c039-6814a00e5a02"
      },
      "outputs": [
        {
          "output_type": "stream",
          "name": "stdout",
          "text": [
            "Installing PyTorch...\n",
            "Installing torchvision...\n",
            "Installing numpy...\n",
            "Installing thop (FLOPs counter) ...\n",
            "Installing OFA...\n",
            "Installing tqdm (progress bar) ...\n",
            "Installing matplotlib...\n",
            "All required packages have been successfully installed!\n"
          ]
        }
      ],
      "source": [
        "print('Installing PyTorch...')\n",
        "! pip install torch 1>/dev/null\n",
        "print('Installing torchvision...')\n",
        "! pip install torchvision 1>/dev/null\n",
        "print('Installing numpy...')\n",
        "! pip install numpy 1>/dev/null\n",
        "# thop is a package for FLOPs computing.\n",
        "print('Installing thop (FLOPs counter) ...')\n",
        "! pip install thop 1>/dev/null\n",
        "# ofa is a package containing training code, pretrained specialized models and inference code for the once-for-all networks.\n",
        "print('Installing OFA...')\n",
        "! pip install ofa 1>/dev/null\n",
        "# tqdm is a package for displaying a progress bar.\n",
        "print('Installing tqdm (progress bar) ...')\n",
        "! pip install tqdm 1>/dev/null\n",
        "print('Installing matplotlib...')\n",
        "! pip install matplotlib 1>/dev/null\n",
        "print('All required packages have been successfully installed!')"
      ]
    },
    {
      "cell_type": "markdown",
      "metadata": {
        "id": "Eibu7d7QALV6"
      },
      "source": [
        "Then, we can import the packages used in this tutorial:"
      ]
    },
    {
      "cell_type": "code",
      "execution_count": 37,
      "metadata": {
        "colab": {
          "base_uri": "https://localhost:8080/"
        },
        "id": "Rnu52uxUALV6",
        "outputId": "dd5f4142-874e-4831-88b9-fc267ec2d341"
      },
      "outputs": [
        {
          "output_type": "stream",
          "name": "stdout",
          "text": [
            "Successfully imported all packages and configured random seed to 1!\n"
          ]
        }
      ],
      "source": [
        "import os\n",
        "import torch\n",
        "import torch.nn as nn\n",
        "from torchvision import transforms, datasets\n",
        "import numpy as np\n",
        "import time\n",
        "import random\n",
        "import math\n",
        "import copy\n",
        "from matplotlib import pyplot as plt\n",
        "\n",
        "from ofa.model_zoo import ofa_net\n",
        "from ofa.utils import download_url\n",
        "\n",
        "# from ofa.tutorial.accuracy_predictor import AccuracyPredictor\n",
        "# from ofa.tutorial.flops_table import FLOPsTable\n",
        "# from ofa.tutorial.latency_table import LatencyTable\n",
        "# from ofa.tutorial.evolution_finder import EvolutionFinder\n",
        "# from ofa.tutorial.imagenet_eval_helper import evaluate_ofa_subnet, evaluate_ofa_specialized\n",
        "from ofa.tutorial import AccuracyPredictor, FLOPsTable, LatencyTable, EvolutionFinder\n",
        "from ofa.tutorial import evaluate_ofa_subnet, evaluate_ofa_specialized\n",
        "\n",
        "# set random seed\n",
        "random_seed = 1\n",
        "random.seed(random_seed)\n",
        "np.random.seed(random_seed)\n",
        "torch.manual_seed(random_seed)\n",
        "print('Successfully imported all packages and configured random seed to %d!'%random_seed)"
      ]
    },
    {
      "cell_type": "markdown",
      "metadata": {
        "id": "B09lrgiSALV6"
      },
      "source": [
        "Now it's time to determine which device to use for neural network inference in the rest of this tutorial. If your machine is equipped with GPU(s), we will use the GPU by default. Otherwise, we will use the CPU."
      ]
    },
    {
      "cell_type": "code",
      "execution_count": 38,
      "metadata": {
        "pycharm": {
          "name": "#%%\n"
        },
        "colab": {
          "base_uri": "https://localhost:8080/"
        },
        "id": "KJVpgG16ALV6",
        "outputId": "e297c698-882c-4151-be19-cb95e372c4a7"
      },
      "outputs": [
        {
          "output_type": "stream",
          "name": "stdout",
          "text": [
            "Using CPU.\n"
          ]
        }
      ],
      "source": [
        "#os.environ['CUDA_VISIBLE_DEVICES'] = '0'\n",
        "cuda_available = torch.cuda.is_available()\n",
        "if cuda_available:\n",
        "    torch.backends.cudnn.enabled = True\n",
        "    torch.backends.cudnn.benchmark = True\n",
        "    torch.cuda.manual_seed(random_seed)\n",
        "    print('Using GPU.')\n",
        "else:\n",
        "    print('Using CPU.')"
      ]
    },
    {
      "cell_type": "markdown",
      "metadata": {
        "id": "nna0MJEnALV6"
      },
      "source": [
        "Good! Now you have successfully configured the environment! It's time to import the **OFA network** for the following experiments.\n",
        "The OFA network used in this tutorial is built upon MobileNetV3 with width multiplier 1.2, supporting elastic depth (2, 3, 4) per stage, elastic expand ratio (3, 4, 6), and elastic kernel size (3, 5 7) per block."
      ]
    },
    {
      "cell_type": "code",
      "execution_count": 39,
      "metadata": {
        "pycharm": {
          "name": "#%%\n"
        },
        "colab": {
          "base_uri": "https://localhost:8080/"
        },
        "id": "LxQrGy36ALV6",
        "outputId": "f70aa675-72c7-469d-b91b-cce5fb958e8f"
      },
      "outputs": [
        {
          "output_type": "stream",
          "name": "stdout",
          "text": [
            "The OFA Network is ready.\n"
          ]
        }
      ],
      "source": [
        "ofa_network = ofa_net('ofa_mbv3_d234_e346_k357_w1.2', pretrained=True)\n",
        "print('The OFA Network is ready.')"
      ]
    },
    {
      "cell_type": "markdown",
      "metadata": {
        "pycharm": {
          "name": "#%% md\n"
        },
        "id": "27TGuC0aALV7"
      },
      "source": [
        "Now, let's build the ImageNet dataset and the corresponding dataloader. Notice that **if you're using the CPU,\n",
        "we will skip ImageNet evaluation by default** since it will be very slow.\n",
        "If you are using the GPU, in case you don't have the full dataset,\n",
        "we will download a subset of ImageNet which contains 2,000 images (~250M) for testing.\n",
        "If you do have the full ImageNet dataset on your machine, just specify it in `imagenet_data_path` and the downloading script will be skipped."
      ]
    },
    {
      "cell_type": "code",
      "execution_count": 40,
      "metadata": {
        "pycharm": {
          "name": "#%%\n"
        },
        "colab": {
          "base_uri": "https://localhost:8080/"
        },
        "id": "OQQxQ5DmALV7",
        "outputId": "656d1c53-4691-46a6-85fa-1515149d7e5e"
      },
      "outputs": [
        {
          "output_type": "stream",
          "name": "stdout",
          "text": [
            "Since GPU is not found in the environment, we skip all scripts related to ImageNet evaluation.\n"
          ]
        }
      ],
      "source": [
        "if cuda_available:\n",
        "    # path to the ImageNet dataset\n",
        "    print(\"Please input the path to the ImageNet dataset.\\n\")\n",
        "    imagenet_data_path = input()\n",
        "\n",
        "    # if 'imagenet_data_path' is empty, download a subset of ImageNet containing 2000 images (~250M) for test\n",
        "    if not os.path.isdir(imagenet_data_path):\n",
        "        os.makedirs(imagenet_data_path, exist_ok=True)\n",
        "        import gdown\n",
        "        gdown.download(\"https://drive.google.com/uc?id=18gEZh9xzsiHi9yqWaCcxqKbYrjW4IPRB\", \"data/imagenet_1k.zip\")\n",
        "        ! cd data && unzip imagenet_1k 1>/dev/null && cd ..\n",
        "        ! cp -r data/imagenet_1k/* $imagenet_data_path\n",
        "        ! rm -rf data\n",
        "        print('%s is empty. Download a subset of ImageNet for test.' % imagenet_data_path)\n",
        "\n",
        "    print('The ImageNet dataset files are ready.')\n",
        "else:\n",
        "    print('Since GPU is not found in the environment, we skip all scripts related to ImageNet evaluation.')"
      ]
    },
    {
      "cell_type": "markdown",
      "metadata": {
        "id": "kcDL1fhBALV7"
      },
      "source": [
        "Now you have configured the dataset. Let's build the dataloader for evaluation.\n",
        "Again, this will be skipped if you are in a CPU environment."
      ]
    },
    {
      "cell_type": "code",
      "execution_count": 41,
      "metadata": {
        "colab": {
          "base_uri": "https://localhost:8080/"
        },
        "id": "1UCJBSSfALV7",
        "outputId": "6d6efbbb-88d5-4b9a-8412-7353a892ffcf"
      },
      "outputs": [
        {
          "output_type": "stream",
          "name": "stdout",
          "text": [
            "Since GPU is not found in the environment, we skip all scripts related to ImageNet evaluation.\n"
          ]
        }
      ],
      "source": [
        "if cuda_available:\n",
        "    # The following function build the data transforms for test\n",
        "    def build_val_transform(size):\n",
        "        return transforms.Compose([\n",
        "            transforms.Resize(int(math.ceil(size / 0.875))),\n",
        "            transforms.CenterCrop(size),\n",
        "            transforms.ToTensor(),\n",
        "            transforms.Normalize(\n",
        "                mean=[0.485, 0.456, 0.406],\n",
        "                std=[0.229, 0.224, 0.225]\n",
        "            ),\n",
        "        ])\n",
        "\n",
        "    data_loader = torch.utils.data.DataLoader(\n",
        "        datasets.ImageFolder(\n",
        "            root=os.path.join(imagenet_data_path, 'val'),\n",
        "            transform=build_val_transform(224)\n",
        "        ),\n",
        "        batch_size=250,  # test batch size\n",
        "        shuffle=True,\n",
        "        num_workers=16,  # number of workers for the data loader\n",
        "        pin_memory=True,\n",
        "        drop_last=False,\n",
        "    )\n",
        "    print('The ImageNet dataloader is ready.')\n",
        "else:\n",
        "    data_loader = None\n",
        "    print('Since GPU is not found in the environment, we skip all scripts related to ImageNet evaluation.')"
      ]
    },
    {
      "cell_type": "markdown",
      "metadata": {
        "id": "x9QJMCA2ALV7"
      },
      "source": [
        "## 2. Using Pretrained Specialized OFA Sub-Networks\n",
        "![](https://github.com/mit-han-lab/once-for-all/blob/master/figures/select_subnets.png?raw=1)\n",
        "The specialized OFA sub-networks are \"small\" networks sampled from the \"big\" OFA network as is indicated in the figure above.\n",
        "The OFA network supports over $10^{19}$ sub-networks simultaneously, so that the deployment cost for multiple scenarios can be saved by 16$\\times$ to 1300$\\times$ under 40 deployment scenarios.\n",
        "Now, let's play with some of the sub-networks through the following interactive command line prompt (**Notice that for CPU users, this will be skipped**).\n",
        "We recommend you to try a smaller sub-network (e.g., the sub-network for pixel1 with 20ms inference latency constraint) so that it takes less time to evaluate the model on ImageNet."
      ]
    },
    {
      "cell_type": "code",
      "execution_count": 42,
      "metadata": {
        "colab": {
          "base_uri": "https://localhost:8080/"
        },
        "id": "jfkw2g6CALV7",
        "outputId": "456ad258-8fb5-41af-d0c0-6ac02698e11e"
      },
      "outputs": [
        {
          "output_type": "stream",
          "name": "stdout",
          "text": [
            "Since GPU is not found in the environment, we skip all scripts related to ImageNet evaluation.\n"
          ]
        }
      ],
      "source": [
        "if cuda_available:\n",
        "    net_id = evaluate_ofa_specialized(imagenet_data_path, data_loader)\n",
        "    print('Finished evaluating the pretrained sub-network: %s!' % net_id)\n",
        "else:\n",
        "    print('Since GPU is not found in the environment, we skip all scripts related to ImageNet evaluation.')"
      ]
    },
    {
      "cell_type": "markdown",
      "metadata": {
        "id": "CL-RLL5MALV8"
      },
      "source": [
        "## 3 Efficient Deployment with OFA Networks\n",
        "\n",
        "You have now successfully prepared the whole environment for the experiment!\n",
        "In the next step, we will introduce **how to get efficient, specialized neural networks within minutes**\n",
        "powered by the OFA network.\n",
        "\n",
        "### 3.1 Latency-Constrained Efficient Deployment on Samsung Note10\n",
        "\n",
        "The key components of very fast neural network deployment are **accuracy predictors** and **efficiency predictors**.\n",
        "For the accuracy predictor, it predicts the Top-1 accuracy of a given sub-network on a **holdout validation set**\n",
        "(different from the official 50K validation set) so that we do **NOT** need to run very costly inference on ImageNet\n",
        "while searching for specialized models. Such an accuracy predictor is trained using an accuracy dataset built with the OFA network.\n",
        "\n",
        "![](https://github.com/mit-han-lab/once-for-all/blob/master/figures/predictor_based_search.png?raw=1)"
      ]
    },
    {
      "cell_type": "code",
      "execution_count": 43,
      "metadata": {
        "pycharm": {
          "name": "#%%\n"
        },
        "colab": {
          "base_uri": "https://localhost:8080/"
        },
        "id": "08mvXQB9ALV8",
        "outputId": "31c3c602-8975-4f85-a589-53147518b06d"
      },
      "outputs": [
        {
          "output_type": "stream",
          "name": "stdout",
          "text": [
            "The accuracy predictor is ready!\n",
            "Sequential(\n",
            "  (0): Linear(in_features=128, out_features=400, bias=True)\n",
            "  (1): ReLU()\n",
            "  (2): Linear(in_features=400, out_features=400, bias=True)\n",
            "  (3): ReLU()\n",
            "  (4): Linear(in_features=400, out_features=400, bias=True)\n",
            "  (5): ReLU()\n",
            "  (6): Linear(in_features=400, out_features=1, bias=True)\n",
            ")\n"
          ]
        }
      ],
      "source": [
        "# accuracy predictor\n",
        "accuracy_predictor = AccuracyPredictor(\n",
        "    pretrained=True,\n",
        "    device='cuda:0' if cuda_available else 'cpu'\n",
        ")\n",
        "\n",
        "print('The accuracy predictor is ready!')\n",
        "print(accuracy_predictor.model)"
      ]
    },
    {
      "cell_type": "markdown",
      "metadata": {
        "id": "w8KmknFHALV8"
      },
      "source": [
        "Now, we have the powerful **accuracy predictor**. We then introduce two types of **efficiency predictors**: the latency predictor and the FLOPs predictor.\n",
        "\n",
        "The intuition of having efficiency predictors, especially the latency predictor, is that measuring the latency of a sub-network on-the-fly is also costly, especially for mobile devices.\n",
        "The latency predictor is designed to eliminate this cost.\n",
        "Let's load a latency predictor we built beforehand for the Samsung Note10.\n",
        "现在，我们有了强大的**精度预测器**。接下来，我们引入了两种类型的**效率预测器**：延迟预测器和FLOPs预测器。\n",
        "引入效率预测器，尤其是延迟预测器的直觉是，实时测量子网络的延迟也是成本高昂的，尤其是在移动设备上。\n",
        "延迟预测器的设计旨在消除这一成本。\n",
        "让我们加载之前为三星Note10构建的延迟预测器。"
      ]
    },
    {
      "cell_type": "code",
      "execution_count": 44,
      "metadata": {
        "pycharm": {
          "name": "#%%\n"
        },
        "colab": {
          "base_uri": "https://localhost:8080/",
          "height": 339
        },
        "id": "27EhwlCRALV8",
        "outputId": "8ec9c6ee-f81f-4d41-f2ff-e9f0e12c50a4"
      },
      "outputs": [
        {
          "output_type": "stream",
          "name": "stderr",
          "text": [
            "Downloading: \"https://raw.githubusercontent.com/han-cai/files/master/ofa/note10/160_lookup_table.yaml\" to /root/.hancai/latency_tools/160_lookup_table.yaml\n"
          ]
        },
        {
          "output_type": "error",
          "ename": "TypeError",
          "evalue": "load() missing 1 required positional argument: 'Loader'",
          "traceback": [
            "\u001b[0;31m---------------------------------------------------------------------------\u001b[0m",
            "\u001b[0;31mTypeError\u001b[0m                                 Traceback (most recent call last)",
            "\u001b[0;32m/tmp/ipython-input-2922921383.py\u001b[0m in \u001b[0;36m<cell line: 0>\u001b[0;34m()\u001b[0m\n\u001b[1;32m      1\u001b[0m \u001b[0mtarget_hardware\u001b[0m \u001b[0;34m=\u001b[0m \u001b[0;34m'note10'\u001b[0m\u001b[0;34m\u001b[0m\u001b[0;34m\u001b[0m\u001b[0m\n\u001b[0;32m----> 2\u001b[0;31m \u001b[0mlatency_table\u001b[0m \u001b[0;34m=\u001b[0m \u001b[0mLatencyTable\u001b[0m\u001b[0;34m(\u001b[0m\u001b[0mdevice\u001b[0m\u001b[0;34m=\u001b[0m\u001b[0mtarget_hardware\u001b[0m\u001b[0;34m)\u001b[0m\u001b[0;34m\u001b[0m\u001b[0;34m\u001b[0m\u001b[0m\n\u001b[0m\u001b[1;32m      3\u001b[0m \u001b[0mprint\u001b[0m\u001b[0;34m(\u001b[0m\u001b[0;34m'The Latency lookup table on %s is ready!'\u001b[0m \u001b[0;34m%\u001b[0m \u001b[0mtarget_hardware\u001b[0m\u001b[0;34m)\u001b[0m\u001b[0;34m\u001b[0m\u001b[0;34m\u001b[0m\u001b[0m\n",
            "\u001b[0;32m/usr/local/lib/python3.12/dist-packages/ofa/tutorial/latency_table.py\u001b[0m in \u001b[0;36m__init__\u001b[0;34m(self, device, resolutions)\u001b[0m\n\u001b[1;32m    198\u001b[0m \u001b[0;34m\u001b[0m\u001b[0m\n\u001b[1;32m    199\u001b[0m         \u001b[0;32mfor\u001b[0m \u001b[0mimage_size\u001b[0m \u001b[0;32min\u001b[0m \u001b[0mresolutions\u001b[0m\u001b[0;34m:\u001b[0m\u001b[0;34m\u001b[0m\u001b[0;34m\u001b[0m\u001b[0m\n\u001b[0;32m--> 200\u001b[0;31m             self.latency_tables[image_size] = LatencyEstimator(\n\u001b[0m\u001b[1;32m    201\u001b[0m                 \u001b[0murl\u001b[0m\u001b[0;34m=\u001b[0m\u001b[0;34mf\"https://raw.githubusercontent.com/han-cai/files/master/ofa/{device}/{image_size}_lookup_table.yaml\"\u001b[0m\u001b[0;34m\u001b[0m\u001b[0;34m\u001b[0m\u001b[0m\n\u001b[1;32m    202\u001b[0m             )\n",
            "\u001b[0;32m/usr/local/lib/python3.12/dist-packages/ofa/tutorial/latency_table.py\u001b[0m in \u001b[0;36m__init__\u001b[0;34m(self, local_dir, url)\u001b[0m\n\u001b[1;32m     15\u001b[0m \u001b[0;34m\u001b[0m\u001b[0m\n\u001b[1;32m     16\u001b[0m         \u001b[0;32mwith\u001b[0m \u001b[0mopen\u001b[0m\u001b[0;34m(\u001b[0m\u001b[0mfname\u001b[0m\u001b[0;34m,\u001b[0m \u001b[0;34m\"r\"\u001b[0m\u001b[0;34m)\u001b[0m \u001b[0;32mas\u001b[0m \u001b[0mfp\u001b[0m\u001b[0;34m:\u001b[0m\u001b[0;34m\u001b[0m\u001b[0;34m\u001b[0m\u001b[0m\n\u001b[0;32m---> 17\u001b[0;31m             \u001b[0mself\u001b[0m\u001b[0;34m.\u001b[0m\u001b[0mlut\u001b[0m \u001b[0;34m=\u001b[0m \u001b[0myaml\u001b[0m\u001b[0;34m.\u001b[0m\u001b[0mload\u001b[0m\u001b[0;34m(\u001b[0m\u001b[0mfp\u001b[0m\u001b[0;34m)\u001b[0m\u001b[0;34m\u001b[0m\u001b[0;34m\u001b[0m\u001b[0m\n\u001b[0m\u001b[1;32m     18\u001b[0m \u001b[0;34m\u001b[0m\u001b[0m\n\u001b[1;32m     19\u001b[0m     \u001b[0;34m@\u001b[0m\u001b[0mstaticmethod\u001b[0m\u001b[0;34m\u001b[0m\u001b[0;34m\u001b[0m\u001b[0m\n",
            "\u001b[0;31mTypeError\u001b[0m: load() missing 1 required positional argument: 'Loader'"
          ]
        }
      ],
      "source": [
        "target_hardware = 'note10'\n",
        "latency_table = LatencyTable(device=target_hardware)\n",
        "print('The Latency lookup table on %s is ready!' % target_hardware)"
      ]
    },
    {
      "cell_type": "markdown",
      "metadata": {
        "id": "3KTUkVsFALV8"
      },
      "source": [
        "So far, we have defined both the accuracy predictor and the latency predictor. Now, let's experience **very fast model specialization** on Samsung Note10 with these two powerful predictors!\n",
        "\n",
        "**Notice**: The predicted accuracy is on a holdout validation set of 10K images, not the official 50K validation set.\n",
        "But they are highly positive-correlated. 到目前为止，我们已经定义了准确率预测器和延迟预测器。现在，让我们使用这两个强大的预测器在三星Note10上体验**非常快速的模型定制**！\n",
        "**注意**：预测的准确率是基于一个包含10K张图像的保留验证集，而不是官方的50K验证集。\n",
        "但它们之间存在高度正相关。"
      ]
    },
    {
      "cell_type": "code",
      "execution_count": 45,
      "metadata": {
        "pycharm": {
          "name": "#%%    \n"
        },
        "colab": {
          "base_uri": "https://localhost:8080/",
          "height": 211
        },
        "id": "L0kPerHjALV8",
        "outputId": "625374b4-0451-48f1-b5f7-fc3b17a0307a"
      },
      "outputs": [
        {
          "output_type": "error",
          "ename": "NameError",
          "evalue": "name 'latency_table' is not defined",
          "traceback": [
            "\u001b[0;31m---------------------------------------------------------------------------\u001b[0m",
            "\u001b[0;31mNameError\u001b[0m                                 Traceback (most recent call last)",
            "\u001b[0;32m/tmp/ipython-input-3969028224.py\u001b[0m in \u001b[0;36m<cell line: 0>\u001b[0;34m()\u001b[0m\n\u001b[1;32m     11\u001b[0m     \u001b[0;34m'mutate_prob'\u001b[0m\u001b[0;34m:\u001b[0m \u001b[0;36m0.1\u001b[0m\u001b[0;34m,\u001b[0m \u001b[0;31m# The probability of mutation in evolutionary search\u001b[0m\u001b[0;34m\u001b[0m\u001b[0;34m\u001b[0m\u001b[0m\n\u001b[1;32m     12\u001b[0m     \u001b[0;34m'mutation_ratio'\u001b[0m\u001b[0;34m:\u001b[0m \u001b[0;36m0.5\u001b[0m\u001b[0;34m,\u001b[0m \u001b[0;31m# The ratio of networks that are generated through mutation in generation n >= 2.\u001b[0m\u001b[0;34m\u001b[0m\u001b[0;34m\u001b[0m\u001b[0m\n\u001b[0;32m---> 13\u001b[0;31m     \u001b[0;34m'efficiency_predictor'\u001b[0m\u001b[0;34m:\u001b[0m \u001b[0mlatency_table\u001b[0m\u001b[0;34m,\u001b[0m \u001b[0;31m# To use a predefined efficiency predictor.\u001b[0m\u001b[0;34m\u001b[0m\u001b[0;34m\u001b[0m\u001b[0m\n\u001b[0m\u001b[1;32m     14\u001b[0m     \u001b[0;34m'accuracy_predictor'\u001b[0m\u001b[0;34m:\u001b[0m \u001b[0maccuracy_predictor\u001b[0m\u001b[0;34m,\u001b[0m \u001b[0;31m# To use a predefined accuracy_predictor predictor.\u001b[0m\u001b[0;34m\u001b[0m\u001b[0;34m\u001b[0m\u001b[0m\n\u001b[1;32m     15\u001b[0m     \u001b[0;34m'population_size'\u001b[0m\u001b[0;34m:\u001b[0m \u001b[0mP\u001b[0m\u001b[0;34m,\u001b[0m\u001b[0;34m\u001b[0m\u001b[0;34m\u001b[0m\u001b[0m\n",
            "\u001b[0;31mNameError\u001b[0m: name 'latency_table' is not defined"
          ]
        }
      ],
      "source": [
        "\"\"\" Hyper-parameters for the evolutionary search process\n",
        "    You can modify these hyper-parameters to see how they influence the final ImageNet accuracy of the search sub-net.\n",
        "\"\"\"\n",
        "latency_constraint = 25  # ms, suggested range [15, 33] ms\n",
        "P = 100  # The size of population in each generation\n",
        "N = 500  # How many generations of population to be searched\n",
        "r = 0.25  # The ratio of networks that are used as parents for next generation\n",
        "params = {\n",
        "    'constraint_type': target_hardware, # Let's do FLOPs-constrained search\n",
        "    'efficiency_constraint': latency_constraint,\n",
        "    'mutate_prob': 0.1, # The probability of mutation in evolutionary search\n",
        "    'mutation_ratio': 0.5, # The ratio of networks that are generated through mutation in generation n >= 2.\n",
        "    'efficiency_predictor': latency_table, # To use a predefined efficiency predictor.\n",
        "    'accuracy_predictor': accuracy_predictor, # To use a predefined accuracy_predictor predictor.\n",
        "    'population_size': P,\n",
        "    'max_time_budget': N,\n",
        "    'parent_ratio': r,\n",
        "}\n",
        "\n",
        "# build the evolution finder\n",
        "finder = EvolutionFinder(**params)\n",
        "\n",
        "# start searching\n",
        "result_lis = []\n",
        "st = time.time()\n",
        "best_valids, best_info = finder.run_evolution_search()\n",
        "result_lis.append(best_info)\n",
        "ed = time.time()\n",
        "print('Found best architecture on %s with latency <= %.2f ms in %.2f seconds! '\n",
        "      'It achieves %.2f%s predicted accuracy with %.2f ms latency on %s.' %\n",
        "      (target_hardware, latency_constraint, ed-st, best_info[0] * 100, '%', best_info[-1], target_hardware))\n",
        "\n",
        "# visualize the architecture of the searched sub-net\n",
        "_, net_config, latency = best_info\n",
        "ofa_network.set_active_subnet(ks=net_config['ks'], d=net_config['d'], e=net_config['e'])\n",
        "print('Architecture of the searched sub-net:')\n",
        "print(ofa_network.module_str)"
      ]
    },
    {
      "cell_type": "markdown",
      "metadata": {
        "id": "o03VPDLGALV9"
      },
      "source": [
        "Great! You get your specialized neural network with **just a few seconds**!\n",
        "You can go back to the last cell and modify the hyper-parameters to see how they affect the search time and the accuracy.\n",
        "\n",
        "We also provided an interface below to draw a figure comparing your searched specialized network and other efficient neural networks such as MobileNetV3 and ProxylessNAS.\n",
        "\n",
        "**Notice**: For ease of comparison, we recommend you to choose a latency constraint between 15ms and 33ms.太棒了！你只需**几秒钟**就能获得你的专用神经网络！\n",
        "你可以回到上一个单元格，修改超参数，看看它们如何影响搜索时间和准确性。\n",
        "我们还提供了下面的界面，用于绘制一个图表，比较你搜索到的专用网络与其他高效神经网络（如MobileNetV3和ProxylessNAS）。\n",
        "**注意**：为了便于比较，我们建议你选择一个在15毫秒到33毫秒之间的延迟约束。"
      ]
    },
    {
      "cell_type": "code",
      "execution_count": 46,
      "metadata": {
        "colab": {
          "base_uri": "https://localhost:8080/"
        },
        "id": "3GkXmi03ALV9",
        "outputId": "73b6c754-ca41-466b-c9a0-b28eaefd006f"
      },
      "outputs": [
        {
          "output_type": "stream",
          "name": "stdout",
          "text": [
            "Since GPU is not found in the environment, we skip all scripts related to ImageNet evaluation.\n"
          ]
        }
      ],
      "source": [
        "# evaluate the searched model on ImageNet\n",
        "if cuda_available:\n",
        "    top1s = []\n",
        "    latency_list = []\n",
        "    for result in result_lis:\n",
        "        _, net_config, latency = result\n",
        "        print('Evaluating the sub-network with latency = %.1f ms on %s' % (latency, target_hardware))\n",
        "        top1 = evaluate_ofa_subnet(\n",
        "            ofa_network,\n",
        "            imagenet_data_path,\n",
        "            net_config,\n",
        "            data_loader,\n",
        "            batch_size=250,\n",
        "            device='cuda:0' if cuda_available else 'cpu')\n",
        "        top1s.append(top1)\n",
        "        latency_list.append(latency)\n",
        "\n",
        "    plt.figure(figsize=(4,4))\n",
        "    plt.plot(latency_list, top1s, 'x-', marker='*', color='darkred',  linewidth=2, markersize=8, label='OFA')\n",
        "    plt.plot([26, 45], [74.6, 76.7], '--', marker='+', linewidth=2, markersize=8, label='ProxylessNAS')\n",
        "    plt.plot([15.3, 22, 31], [73.3, 75.2, 76.6], '--', marker='>', linewidth=2, markersize=8, label='MobileNetV3')\n",
        "    plt.xlabel('%s Latency (ms)' % target_hardware, size=12)\n",
        "    plt.ylabel('ImageNet Top-1 Accuracy (%)', size=12)\n",
        "    plt.legend(['OFA', 'ProxylessNAS', 'MobileNetV3'], loc='lower right')\n",
        "    plt.grid(True)\n",
        "    plt.show()\n",
        "    print('Successfully draw the tradeoff curve!')\n",
        "else:\n",
        "    print('Since GPU is not found in the environment, we skip all scripts related to ImageNet evaluation.')"
      ]
    },
    {
      "cell_type": "markdown",
      "metadata": {
        "id": "4g1NV3QXALV9"
      },
      "source": [
        "**Notice:** You can further significantly improve the accuracy of the searched sub-net by fine-tuning it on the ImageNet training set.\n",
        "Our results after fine-tuning for 25 epochs are as follows:\n",
        "![](https://github.com/mit-han-lab/once-for-all/blob/master/figures/diverse_hardware.png?raw=1)\n",
        "\n",
        "\n",
        "### 3.2 FLOPs-Constrained Efficient Deployment\n",
        "\n",
        "Now, let's proceed to the final experiment of this tutorial: efficient deployment under FLOPs constraint. We use the same accuracy predictor since accuracy predictors are agnostic to the types of efficiency constraint (mobile latency / FLOPs). For the efficiency predictor, we change the latency lookup table to a flops lookup table. You can run the code below to setup it in a few seconds."
      ]
    },
    {
      "cell_type": "code",
      "execution_count": 47,
      "metadata": {
        "pycharm": {
          "is_executing": true,
          "name": "#%%\n"
        },
        "colab": {
          "base_uri": "https://localhost:8080/"
        },
        "id": "BldjiVPyALV9",
        "outputId": "f7bfb234-7538-41db-c1cf-9fd0d45b2f4e"
      },
      "outputs": [
        {
          "output_type": "stream",
          "name": "stdout",
          "text": [
            "Building the flops lookup table (resolution=160)...\n",
            "Built the flops lookup table (resolution=160)!\n",
            "Building the flops lookup table (resolution=176)...\n",
            "Built the flops lookup table (resolution=176)!\n",
            "Building the flops lookup table (resolution=192)...\n",
            "Built the flops lookup table (resolution=192)!\n",
            "Building the flops lookup table (resolution=208)...\n",
            "Built the flops lookup table (resolution=208)!\n",
            "Building the flops lookup table (resolution=224)...\n",
            "Built the flops lookup table (resolution=224)!\n",
            "The FLOPs lookup table is ready!\n"
          ]
        }
      ],
      "source": [
        "flops_lookup_table = FLOPsTable(\n",
        "    device='cuda:0' if cuda_available else 'cpu',\n",
        "    batch_size=1,\n",
        ")\n",
        "print('The FLOPs lookup table is ready!')"
      ]
    },
    {
      "cell_type": "markdown",
      "metadata": {
        "id": "1SUSKl7FALV9"
      },
      "source": [
        "Now, you can start a FLOPs-constrained neural architecture search. Here, we directly generate **an entire tradeoff curve** for you. Please notice that the time it takes to get each data point will get longer and longer (but always less than 30 seconds) because smaller FLOPs-constraint is more difficult to meet.\n",
        "\n",
        "If you are using CPUs, you will be able to see a \"predicted holdout validation set accuracy - FLOPs\" tradeoff curve, which can be obtained in just a  minute.\n",
        "\n",
        "If you are using GPUs, besides the curve mentioned above, we will also evaluate all the models you designed on the ImageNet validation set (**Again, it will be better if you have the full ImageNet validation set**, but it's also OK if you downloaded the subset above) and generate an \"ImageNet 50K validation set accuracy - FLOPs\" tradeoff curve. We will also plot competing methods such as ProxylessNAS, MobileNetV3, and EfficientNet in this curve for your reference. The estimated time to get the two curves is less than 10 minutes.\n",
        "\n",
        "Please notice that it usually takes ** hundreds/thousands of hours** to generate an accuracy-FLOPs tradeoff curve for ProxylessNAS / MobileNetV3 / EfficientNet, but generating the tradeoff curve for our OFA takes just a few minutes, as you will experience soon."
      ]
    },
    {
      "cell_type": "code",
      "execution_count": 48,
      "metadata": {
        "pycharm": {
          "name": "#%%\n"
        },
        "colab": {
          "base_uri": "https://localhost:8080/",
          "height": 479
        },
        "id": "CoIMXY7LALV9",
        "outputId": "5842da2c-44fa-4f42-b0a5-b0e7c53c7cd1"
      },
      "outputs": [
        {
          "output_type": "stream",
          "name": "stderr",
          "text": [
            "Searching with flops constraint (600): 100%|██████████| 500/500 [00:08<00:00, 56.28it/s]\n",
            "Searching with flops constraint (400): 100%|██████████| 500/500 [00:07<00:00, 63.15it/s]\n",
            "Searching with flops constraint (350): 100%|██████████| 500/500 [00:09<00:00, 51.88it/s]\n",
            "/tmp/ipython-input-3385353550.py:33: UserWarning: marker is redundantly defined by the 'marker' keyword argument and the fmt string \"x-\" (-> marker='x'). The keyword argument will take precedence.\n",
            "  plt.plot([x[-1] for x in result_lis], [x[0] * 100 for x in result_lis], 'x-', marker='*', color='darkred',  linewidth=2, markersize=8, label='OFA')\n"
          ]
        },
        {
          "output_type": "display_data",
          "data": {
            "text/plain": [
              "<Figure size 400x400 with 1 Axes>"
            ],
            "image/png": "[encoded data removed]"
          },
          "metadata": {}
        }
      ],
      "source": [
        "\"\"\" Hyper-parameters for the evolutionary search process\n",
        "    You can modify these hyper-parameters to see how they influence the final ImageNet accuracy of the search sub-net.\n",
        "\"\"\"\n",
        "P = 100  # The size of population in each generation\n",
        "N = 500  # How many generations of population to be searched\n",
        "r = 0.25  # The ratio of networks that are used as parents for next generation\n",
        "params = {\n",
        "    'constraint_type': 'flops', # Let's do FLOPs-constrained search\n",
        "    'efficiency_constraint': 600,  # FLops constraint (M), suggested range [150, 600]\n",
        "    'mutate_prob': 0.1, # The probability of mutation in evolutionary search\n",
        "    'mutation_ratio': 0.5, # The ratio of networks that are generated through mutation in generation n >= 2.\n",
        "    'efficiency_predictor': flops_lookup_table, # To use a predefined efficiency predictor.\n",
        "    'accuracy_predictor': accuracy_predictor, # To use a predefined accuracy_predictor predictor.\n",
        "    'population_size': P,\n",
        "    'max_time_budget': N,\n",
        "    'parent_ratio': r,\n",
        "}\n",
        "\n",
        "# build the evolution finder\n",
        "finder = EvolutionFinder(**params)\n",
        "\n",
        "# start searching\n",
        "result_lis = []\n",
        "for flops in [600, 400, 350]:\n",
        "    st = time.time()\n",
        "    finder.set_efficiency_constraint(flops)\n",
        "    best_valids, best_info = finder.run_evolution_search()\n",
        "    ed = time.time()\n",
        "    # print('Found best architecture at flops <= %.2f M in %.2f seconds! It achieves %.2f%s predicted accuracy with %.2f MFLOPs.' % (flops, ed-st, best_info[0] * 100, '%', best_info[-1]))\n",
        "    result_lis.append(best_info)\n",
        "\n",
        "plt.figure(figsize=(4,4))\n",
        "plt.plot([x[-1] for x in result_lis], [x[0] * 100 for x in result_lis], 'x-', marker='*', color='darkred',  linewidth=2, markersize=8, label='OFA')\n",
        "plt.xlabel('FLOPs (M)', size=12)\n",
        "plt.ylabel('Predicted Holdout Top-1 Accuracy (%)', size=12)\n",
        "plt.legend(['OFA'], loc='lower right')\n",
        "plt.grid(True)\n",
        "plt.show()"
      ]
    },
    {
      "cell_type": "markdown",
      "metadata": {
        "id": "yXErmRuRALV9"
      },
      "source": [
        "Let's evaluate the searched models on ImageNet if GPU is available:"
      ]
    },
    {
      "cell_type": "code",
      "execution_count": 49,
      "metadata": {
        "pycharm": {
          "name": "#%%\n"
        },
        "id": "2f3Q8HkLALV-"
      },
      "outputs": [],
      "source": [
        "if cuda_available:\n",
        "    # test the searched model on the test dataset (ImageNet val)\n",
        "    top1s = []\n",
        "    flops_lis = []\n",
        "    for result in result_lis:\n",
        "        _, net_config, flops = result\n",
        "        print('Evaluating the sub-network with FLOPs = %.1fM' % flops)\n",
        "        top1 = evaluate_ofa_subnet(\n",
        "            ofa_network,\n",
        "            imagenet_data_path,\n",
        "            net_config,\n",
        "            data_loader,\n",
        "            batch_size=250,\n",
        "            device='cuda:0' if cuda_available else 'cpu')\n",
        "        print('-' * 45)\n",
        "        top1s.append(top1)\n",
        "        flops_lis.append(flops)\n",
        "\n",
        "    plt.figure(figsize=(8,4))\n",
        "    plt.subplot(1, 2, 1)\n",
        "    plt.plot([x[-1] for x in result_lis], [x[0] * 100 for x in result_lis], 'x-', marker='*', color='darkred',  linewidth=2, markersize=8, label='OFA')\n",
        "    plt.xlabel('FLOPs (M)', size=12)\n",
        "    plt.ylabel('Predicted Holdout Top-1 Accuracy (%)', size=12)\n",
        "    plt.legend(['OFA'], loc='lower right')\n",
        "    plt.grid(True)\n",
        "\n",
        "    plt.subplot(1, 2, 2)\n",
        "    plt.plot(flops_lis, top1s, 'x-', marker='*', color='darkred',  linewidth=2, markersize=8, label='OFA')\n",
        "    plt.plot([320, 581], [74.6, 76.7], '--', marker='+', linewidth=2, markersize=8, label='ProxylessNAS')\n",
        "    plt.plot([219, 343], [75.2, 76.6], '--', marker='^', linewidth=2, markersize=8, label='MobileNetV3')\n",
        "    plt.plot([390, 700], [76.3, 78.8], '--', marker='>', linewidth=2, markersize=8, label='EfficientNet')\n",
        "    plt.xlabel('FLOPs (M)', size=12)\n",
        "    plt.ylabel('ImageNet Top-1 Accuracy (%)', size=12)\n",
        "    plt.legend(['OFA', 'ProxylessNAS', 'MobileNetV3', 'EfficientNet'], loc='lower right')\n",
        "    plt.grid(True)\n",
        "    plt.show()"
      ]
    },
    {
      "cell_type": "markdown",
      "metadata": {
        "id": "LvSz72zRALV-"
      },
      "source": [
        "**Notice:** Again, you can further improve the accuracy of the search sub-net by fine-tuning it on ImageNet.\n",
        "The final accuracy is much better than training the same architecture from scratch.\n",
        "Our results are as follows:\n",
        "![](https://github.com/mit-han-lab/once-for-all/blob/master/figures/imagenet_80_acc.png?raw=1)\n",
        "![](https://github.com/mit-han-lab/once-for-all/blob/master/figures/cnn_imagenet_new.png?raw=1)\n",
        "\n",
        "Congratulations! You've finished all the content of this tutorial!\n",
        "Hope you enjoy playing with the OFA Networks. If you are interested,  please refer to our paper and GitHub Repo for further details.\n",
        "\n",
        "## Reference\n",
        "[1] CVPR'20 tutorial: **AutoML for TinyML with Once-for-All Network**. [[talk]](https://www.youtube.com/watch?v=fptQ_eJ3Uc0&feature=youtu.be).\n",
        "\n",
        "[1] Han Cai, Chuang Gan, Tianzhe Wang, Zhekai Zhang and Song Han.\n",
        "**Once for All: Train One Network and Specialize It for Efficient Deployment**. In *ICLR* 2020.\n",
        "[[paper]](https://arxiv.org/abs/1908.09791), [[code]](https://github.com/mit-han-lab/once-for-all), [[talk]](https://www.youtube.com/watch?v=a_OeT8MXzWI).\n",
        "\n",
        "[2] Han Cai, Ligeng Zhu and Song Han. **ProxylessNAS: Direct Neural Architecture Search on Target Task and Hardware**.\n",
        "In *ICLR* 2019. [[paper]](https://arxiv.org/abs/1812.00332), [[code]](https://github.com/MIT-HAN-LAB/ProxylessNAS).\n"
      ]
    }
  ],
  "metadata": {
    "kernelspec": {
      "display_name": "Python 3",
      "language": "python",
      "name": "python3"
    },
    "language_info": {
      "codemirror_mode": {
        "name": "ipython",
        "version": 3
      },
      "file_extension": ".py",
      "mimetype": "text/x-python",
      "name": "python",
      "nbconvert_exporter": "python",
      "pygments_lexer": "ipython3",
      "version": "3.7.4"
    },
    "colab": {
      "provenance": [],
      "toc_visible": true
    }
  },
  "nbformat": 4,
  "nbformat_minor": 0
}